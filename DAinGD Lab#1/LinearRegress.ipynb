{
 "cells": [
  {
   "cell_type": "code",
   "execution_count": 20,
   "id": "a43350f9-cc2f-4a26-8304-a261eb929a1e",
   "metadata": {},
   "outputs": [
    {
     "data": {
      "text/plain": [
       "<matplotlib.collections.PathCollection at 0x25e9841d730>"
      ]
     },
     "execution_count": 20,
     "metadata": {},
     "output_type": "execute_result"
    },
    {
     "data": {
      "image/png": "[encoded data removed]",
      "text/plain": [
       "<Figure size 432x288 with 1 Axes>"
      ]
     },
     "metadata": {
      "needs_background": "light"
     },
     "output_type": "display_data"
    }
   ],
   "source": [
    "In in []\n",
    "#Импортируем библтотеки для вычисления (numpy) и Matplotlib для отрисовки графика\n",
    "import numpy as np\n",
    "import matplotlib.pyplot as plt\n",
    "from scipy import stats\n",
    "from pylab import *\n",
    "\n",
    "%matplotlib inline\n",
    "\n",
    "# Подгрузка данных, они могут быть любые, мы занесем их в массив. Массива создано два, тк у нас две оси. Можно сделать три и график будет трехмерным(поверхностью). Фактически метод scatter из пространства имен plt соединяет точки, координатами которых являются значения массива. 0y и 0x... Так далее пока массив не кончится. Можно сделать лабу по физике, но матлаб привычнее. И там тоже py синтаксис\n",
    "x = [3,21,22,34,54,34,55,67,89,99]\n",
    "x = np.array(x)\n",
    "y = [2,22,24,65,79,82,55,130,150,199]\n",
    "y = np.array(y)\n",
    "\n",
    "#График - рисует тот самый метод описанный комментраием выше. и я немного поиграюсь с осями. Например зависимость выдуманного проводника от температуры, раз уж речь идет о физике и лабах по ней. Данные офк мы собрали на самой лабе.\n",
    "plt.ylabel(\"T, grad celcia\")\n",
    "plt.xlabel(\"R, Om*m\")\n",
    "plt.scatter(x,y)"
   ]
  },
  {
   "cell_type": "markdown",
   "id": "c83a8e8f-e889-4540-ab7f-7d9611a0be6e",
   "metadata": {
    "tags": []
   },
   "source": [
    "Найдем Кэффицент регрессии сопротивления от температуры проводника"
   ]
  },
  {
   "cell_type": "code",
   "execution_count": 21,
   "id": "fe7d6a4b-bc5c-4774-bd0e-86f4d90399f8",
   "metadata": {
    "tags": []
   },
   "outputs": [
    {
     "data": {
      "text/plain": [
       "array([[1.        , 0.94951351],\n",
       "       [0.94951351, 1.        ]])"
      ]
     },
     "execution_count": 21,
     "metadata": {},
     "output_type": "execute_result"
    }
   ],
   "source": [
    "np.corrcoef(x,y)"
   ]
  },
  {
   "cell_type": "markdown",
   "id": "08eaa108-6578-4583-a1fa-41f7ee06b177",
   "metadata": {},
   "source": [
    "Найдем Кэффицент регрессии сопротивления от температуры проводника"
   ]
  },
  {
   "cell_type": "code",
   "execution_count": null,
   "id": "faf18efe-0ba2-400c-ac3b-9a2e0e4ed296",
   "metadata": {},
   "outputs": [],
   "source": [
    "Визуализируем регрессию"
   ]
  },
  {
   "cell_type": "code",
   "execution_count": null,
   "id": "becb7081-b4c6-401c-a21f-187111b20ffd",
   "metadata": {},
   "outputs": [],
   "source": [
    "slope, intercept, _, _, _ = stats.linregress(x,y)"
   ]
  },
  {
   "cell_type": "code",
   "execution_count": null,
   "id": "04ef6d35-83f4-4d14-9920-841bd0e9b3e4",
   "metadata": {},
   "outputs": [],
   "source": [
    "def predict (a):\n",
    "    return slope*a + intercept"
   ]
  },
  {
   "cell_type": "code",
   "execution_count": 44,
   "id": "54a32c3f-904b-432f-b1ea-b4708ebf5dce",
   "metadata": {
    "tags": []
   },
   "outputs": [
    {
     "ename": "NameError",
     "evalue": "name 'predict' is not defined",
     "output_type": "error",
     "traceback": [
      "\u001b[1;31m---------------------------------------------------------------------------\u001b[0m",
      "\u001b[1;31mNameError\u001b[0m                                 Traceback (most recent call last)",
      "Input \u001b[1;32mIn [44]\u001b[0m, in \u001b[0;36m<cell line: 1>\u001b[1;34m()\u001b[0m\n\u001b[1;32m----> 1\u001b[0m P \u001b[38;5;241m=\u001b[39m \u001b[43mpredict\u001b[49m(x)\n",
      "\u001b[1;31mNameError\u001b[0m: name 'predict' is not defined"
     ]
    }
   ],
   "source": [
    "    P = predict(x)"
   ]
  },
  {
   "cell_type": "code",
   "execution_count": 45,
   "id": "b5914bc5-53a1-44eb-9024-de250f706b34",
   "metadata": {},
   "outputs": [
    {
     "ename": "NameError",
     "evalue": "name 'P' is not defined",
     "output_type": "error",
     "traceback": [
      "\u001b[1;31m---------------------------------------------------------------------------\u001b[0m",
      "\u001b[1;31mNameError\u001b[0m                                 Traceback (most recent call last)",
      "Input \u001b[1;32mIn [45]\u001b[0m, in \u001b[0;36m<cell line: 2>\u001b[1;34m()\u001b[0m\n\u001b[0;32m      1\u001b[0m plt\u001b[38;5;241m.\u001b[39mscatter(x,y)\n\u001b[1;32m----> 2\u001b[0m plt\u001b[38;5;241m.\u001b[39mplot(x, \u001b[43mP\u001b[49m, c\u001b[38;5;241m=\u001b[39m\u001b[38;5;124m\"\u001b[39m\u001b[38;5;124mr\u001b[39m\u001b[38;5;124m\"\u001b[39m)\n\u001b[0;32m      3\u001b[0m plt\u001b[38;5;241m.\u001b[39mshow()\n",
      "\u001b[1;31mNameError\u001b[0m: name 'P' is not defined"
     ]
    },
    {
     "data": {
      "image/png": "[encoded data removed]",
      "text/plain": [
       "<Figure size 432x288 with 1 Axes>"
      ]
     },
     "metadata": {
      "needs_background": "light"
     },
     "output_type": "display_data"
    }
   ],
   "source": [
    "plt.scatter(x,y)\n",
    "plt.plot(x, P, c=\"r\")\n",
    "plt.show()\n",
    "##Я хз почему не работает. пора сдавать лабу, но вообще тут по предикшену выстраивается линия выбирая средние значения и, есобвственно визуализирует линейную регрессию. "
   ]
  },
  {
   "cell_type": "code",
   "execution_count": null,
   "id": "cd1547e1-30c6-460e-af29-7fcf80ea168b",
   "metadata": {},
   "outputs": [],
   "source": []
  },
  {
   "cell_type": "code",
   "execution_count": null,
   "id": "c6e25116-055a-407b-a91e-aba4c71f74ce",
   "metadata": {},
   "outputs": [],
   "source": []
  }
 ],
 "metadata": {
  "kernelspec": {
   "display_name": "Python 3 (ipykernel)",
   "language": "python",
   "name": "python3"
  },
  "language_info": {
   "codemirror_mode": {
    "name": "ipython",
    "version": 3
   },
   "file_extension": ".py",
   "mimetype": "text/x-python",
   "name": "python",
   "nbconvert_exporter": "python",
   "pygments_lexer": "ipython3",
   "version": "3.9.12"
  }
 },
 "nbformat": 4,
 "nbformat_minor": 5
}
